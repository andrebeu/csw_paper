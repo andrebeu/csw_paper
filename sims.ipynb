{
 "cells": [
  {
   "cell_type": "markdown",
   "metadata": {},
   "source": [
    "# run simulations "
   ]
  },
  {
   "cell_type": "code",
   "execution_count": 1,
   "metadata": {},
   "outputs": [],
   "source": [
    "import pdb, os, pickle,json \n",
    "import math \n",
    "import pandas as pd\n",
    "import numpy as np \n",
    "from scipy.stats import ttest_rel,ttest_ind, ttest_1samp \n",
    "from matplotlib import pyplot as plt \n",
    "import seaborn as sns \n",
    "from sklearn.metrics import adjusted_rand_score \n",
    "\n",
    "from humanUtils import * \n",
    "from cswHumanDatabase import load_final_df, load_dfs \n",
    "from analysis import * \n",
    "from utils import * \n",
    "\n",
    "%load_ext autoreload\n",
    "%autoreload 2\n",
    "\n",
    "sns.set_context('talk')\n",
    "%matplotlib inline\n",
    "plt.rcParams['font.size'] = 22"
   ]
  },
  {
   "cell_type": "code",
   "execution_count": 2,
   "metadata": {},
   "outputs": [],
   "source": [
    "condL = ['blocked','interleaved','early','middle','late']"
   ]
  },
  {
   "cell_type": "markdown",
   "metadata": {},
   "source": [
    "# model dfs"
   ]
  },
  {
   "cell_type": "markdown",
   "metadata": {},
   "source": [
    "## read gridsearch results, rerun and save top model experiment\n",
    "* run experiments with best params of each gridsearch\n",
    "* saveout acc, exp and zt of each"
   ]
  },
  {
   "cell_type": "markdown",
   "metadata": {},
   "source": [
    "## sims info\n",
    "* version 5: skipt1 = false; no variability across seeds \n",
    "* version 1: skipt1 = true; no variability across seeds\n",
    "* version 2: skipt1 = true; variable concentration across seeds \n",
    "* version 9: skipt1 = true starting in 2nd block for blocked, always false for interleaved; variable concentration across seeds"
   ]
  },
  {
   "cell_type": "code",
   "execution_count": 3,
   "metadata": {},
   "outputs": [],
   "source": [
    "def get_gs_info(gsname):\n",
    "  # concentration variance\n",
    "  if (gsname == V9) or (gsname == V2):\n",
    "    concentration_sd = 0.3\n",
    "    concentration_lb = 0\n",
    "    concentration_ub = np.inf\n",
    "    concentration_mean = args[\"sch\"][\"concentration\"]\n",
    "    concentration_info = {\n",
    "      'concentration_mean': concentration_mean,\n",
    "      'concentration_sd': concentration_sd,\n",
    "      'concentration_lb': concentration_lb,\n",
    "      'concentration_ub': concentration_ub\n",
    "    }\n",
    "  else:\n",
    "    concentration_info = None\n",
    "  # run fun  \n",
    "  if gsname == V9:\n",
    "    run_fn = run_batch_exp_curr_v8and9\n",
    "  else:\n",
    "    run_fn = run_batch_exp_curr\n",
    "  return {\"concentration_info\":concentration_info,'run_fn':run_fn}\n",
    "  "
   ]
  },
  {
   "cell_type": "code",
   "execution_count": 4,
   "metadata": {},
   "outputs": [],
   "source": [
    "V1 = 'gs0317'\n",
    "V2 = 'gs0317_concentrationAcross'\n",
    "V9 = 'gs0317_version9_concentrationAcross_skipt1False_except_blocked'\n",
    "V5 = 'gs0317_version5_skipt1False'\n",
    "gsnameL = [V5,V1,V2,V9]\n",
    "# gsnameL = [V9]"
   ]
  },
  {
   "cell_type": "code",
   "execution_count": 5,
   "metadata": {
    "scrolled": true
   },
   "outputs": [
    {
     "name": "stdout",
     "output_type": "stream",
     "text": [
      "gs0317_version5_skipt1False\n",
      "\n",
      "concentration_4.775-stickiness_wi_96.792-stickiness_bt_96.792-sparsity_0.051-pvar_0.000-lrate_1.000-lratep_1.000-decay_rate_1.000-beta2_0.000-skipt1_0.000-ppd_allsch_0.000\n",
      "\n",
      "{'b_mse1': {748: 0.0545}, 'b_mse2': {748: 0.0079}, 'i_mse1': {748: 0.0108}, 'i_mse2': {748: 0.0187}, 'mse-bi': {748: 0.0919}}\n",
      "gs0317_version5_skipt1False\n",
      "gs0317\n",
      "\n",
      "concentration_1.703-stickiness_wi_1.848-stickiness_bt_1.848-sparsity_0.211-pvar_0.000-lrate_1.000-lratep_1.000-decay_rate_1.000-beta2_0.000-skipt1_1.000-ppd_allsch_0.000\n",
      "\n",
      "{'b_mse1': {45355: 0.012}, 'b_mse2': {45355: 0.0058}, 'i_mse1': {45355: 0.0107}, 'i_mse2': {45355: 0.0121}, 'mse-bi': {45355: 0.0406}}\n",
      "gs0317\n",
      "gs0317_concentrationAcross\n",
      "\n",
      "concentration_3.604-stickiness_wi_5.057-stickiness_bt_5.057-sparsity_0.436-pvar_0.000-lrate_1.000-lratep_1.000-decay_rate_1.000-beta2_0.000-skipt1_1.000-ppd_allsch_0.000\n",
      "\n",
      "{'b_mse1': {22765: 0.011}, 'b_mse2': {22765: 0.005}, 'i_mse1': {22765: 0.0111}, 'i_mse2': {22765: 0.0099}, 'mse-bi': {22765: 0.0371}}\n",
      "gs0317_concentrationAcross\n",
      "gs0317_version9_concentrationAcross_skipt1False_except_blocked\n",
      "\n",
      "concentration_4.055-stickiness_wi_5.715-stickiness_bt_5.715-sparsity_0.343-pvar_0.000-lrate_1.000-lratep_1.000-decay_rate_1.000-beta2_0.000-skipt1_0.000-ppd_allsch_0.000\n",
      "\n",
      "{'b_mse1': {6668: 0.0104}, 'b_mse2': {6668: 0.0057}, 'i_mse1': {6668: 0.0106}, 'i_mse2': {6668: 0.009}, 'mse-bi': {6668: 0.0358}}\n",
      "gs0317_version9_concentrationAcross_skipt1False_except_blocked\n"
     ]
    }
   ],
   "source": [
    "recompute = True\n",
    "ns=50\n",
    "\n",
    "for gsname in gsnameL:\n",
    "  # read gridsearch dataframe\n",
    "  gsdf = pd.read_csv(\n",
    "    'data/model/%s-summdf.csv'%gsname\n",
    "  ).astype(float)\n",
    "  \n",
    "  # find param of best model\n",
    "  TOP_K = 1\n",
    "  gsdf.loc[:,\"mse-bi\"] = gsdf.b_mse1+gsdf.b_mse2+gsdf.i_mse1+gsdf.i_mse2\n",
    "  topKgsdf = gsdf.sort_values('mse-bi').iloc[:TOP_K]\n",
    "  args,paramstr = get_argsD(topKgsdf.iloc[0])\n",
    "  print(gsname)\n",
    "  print()\n",
    "  print(paramstr)\n",
    "  print()\n",
    "  print(topKgsdf.loc[:,(\"b_mse1\",\"b_mse2\",\"i_mse1\",\"i_mse2\",\"mse-bi\")].round(4).to_dict())\n",
    "  \n",
    "  # run experiment\n",
    "  if recompute:\n",
    "    print(gsname)\n",
    "    # gridsearch params: alpha variance, run fun\n",
    "    gs_params = get_gs_info(gsname)\n",
    "    concentration_info = gs_params['concentration_info']\n",
    "    run_fn = gs_params['run_fn']\n",
    "    # run\n",
    "    (exp_batch_data, alpha_per_seed,_,_) = run_fn(ns,args,condL,concentration_info) # [curr],[seeds],{data}\n",
    "    # unpack and save\n",
    "    exp = np.stack([exp_batch_data[c][s]['exp'] for c in range(5) for s in range(ns)]).reshape(5,ns,200,5)\n",
    "    zt = np.stack([exp_batch_data[c][s]['zt'] for c in range(5) for s in range(ns)]).reshape(5,ns,200,5)\n",
    "    xth = np.stack([exp_batch_data[c][s]['xth'].argmax(-1) for c in range(5) for s in range(ns)]).reshape(5,ns,200,5)\n",
    "    acc = unpack_acc(exp_batch_data,mean_over_tsteps=True)\n",
    "    np.save(f'data/model/{gsname}-acc',acc)\n",
    "    np.save(f'data/model/{gsname}-exp',exp)\n",
    "    np.save(f'data/model/{gsname}-zt',zt)\n",
    "    np.save(f'data/model/{gsname}-xth',xth)\n",
    "    np.save(f'data/model/{gsname}-alpha',np.array(alpha_per_seed))\n",
    "    "
   ]
  },
  {
   "cell_type": "markdown",
   "metadata": {},
   "source": [
    "## make accuracy dataframe\n",
    "* load saved np files from all gridsearches\n",
    "* extract accuracy and format dataframe"
   ]
  },
  {
   "cell_type": "code",
   "execution_count": 6,
   "metadata": {},
   "outputs": [],
   "source": [
    "L = []\n",
    "for gsname in [V5,V1,V2,V9]:\n",
    "  acc = np.load(f\"data/model/{gsname}-acc.npy\")\n",
    "  alpha = np.load(f\"data/model/{gsname}-alpha.npy\")\n",
    "  for cix in range(5):\n",
    "    for six in range(ns):\n",
    "      for tix in range(200):\n",
    "        if len(alpha[0]):\n",
    "          a = alpha[cix,six]  \n",
    "        else:\n",
    "          a = []\n",
    "        L.append({\n",
    "          'gs':gsname,\n",
    "          'alpha':a,\n",
    "          'cond':cix,\n",
    "          'seed':six,\n",
    "          'trial':tix,\n",
    "          'acc':acc[cix,six,tix]\n",
    "        })\n",
    "model_acc_df = pd.DataFrame(L)\n",
    "model_acc_df.loc[:,'test'] = model_acc_df.trial >= 160"
   ]
  },
  {
   "cell_type": "code",
   "execution_count": 7,
   "metadata": {},
   "outputs": [],
   "source": [
    "# model_acc_df.to_csv(f\"data_csv/model/acc_df.csv\")"
   ]
  },
  {
   "cell_type": "markdown",
   "metadata": {},
   "source": [
    "## make states dataframe\n",
    "* as above"
   ]
  },
  {
   "cell_type": "code",
   "execution_count": 8,
   "metadata": {},
   "outputs": [],
   "source": [
    "L = []\n",
    "for gsname in [V5,V1,V2,V9]:\n",
    "  exp = np.load(f\"data/model/{gsname}-exp.npy\")\n",
    "  zt = np.load(f\"data/model/{gsname}-zt.npy\")\n",
    "  xth = np.load(f\"data/model/{gsname}-xth.npy\")\n",
    "  alpha = np.load(f\"data/model/{gsname}-alpha.npy\")\n",
    "  for cix in range(5):\n",
    "    for six in range(ns):\n",
    "      for trix in range(200):\n",
    "        for tstep in range(5):\n",
    "          if len(alpha[0]):\n",
    "            a = alpha[cix,six]  \n",
    "          else:\n",
    "            a = []\n",
    "          L.append({\n",
    "            'gs':gsname,\n",
    "            'alpha':a,\n",
    "            'cond':cix,\n",
    "            'seed':six,\n",
    "            'trial':trix,\n",
    "            'tstep':tstep,\n",
    "            'exp':exp[cix,six,trix,tstep],\n",
    "            'zt':zt[cix,six,trix,tstep],\n",
    "            'xth':xth[cix,six,trix,tstep]\n",
    "          })\n",
    "\n",
    "model_states_df = pd.DataFrame(L)\n"
   ]
  }
 ],
 "metadata": {
  "interpreter": {
   "hash": "f5e79e0fd48c1a9b87f247dd33ea0ec3cdf8da9046cf42fe4b140ef0bef8afb1"
  },
  "kernelspec": {
   "display_name": "Python 3",
   "language": "python",
   "name": "python3"
  },
  "language_info": {
   "codemirror_mode": {
    "name": "ipython",
    "version": 3
   },
   "file_extension": ".py",
   "mimetype": "text/x-python",
   "name": "python",
   "nbconvert_exporter": "python",
   "pygments_lexer": "ipython3",
   "version": "3.8.8"
  }
 },
 "nbformat": 4,
 "nbformat_minor": 2
}
